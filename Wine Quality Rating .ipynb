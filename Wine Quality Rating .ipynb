{
 "cells": [
  {
   "cell_type": "markdown",
   "metadata": {},
   "source": [
    "#  Wine Quality Rating - Python Group Project - MSCI:6040 \n",
    "\n",
    "By Group 5 (Kiran Bichugatti,Tarun Mandava ,Senthil Kumar Gopalakrishnan, Venkatesan Kandavelu - Data Scientists) \n",
    "- June, 2020                                                             \n",
    "\n",
    "Objective - Determine key significant factors in the chemistry of wine that result in high quality. Once those factors are determined, fit an analytical model that could be used for predicting whether the chemical properties of a sampled wine will result in an accurate judgement of quality.\n",
    "\n",
    "Data source: Red wine dataset from Kaggle\n"
   ]
  },
  {
   "cell_type": "code",
   "execution_count": 1,
   "metadata": {},
   "outputs": [
    {
     "data": {
      "text/html": [
       "<div>\n",
       "<style scoped>\n",
       "    .dataframe tbody tr th:only-of-type {\n",
       "        vertical-align: middle;\n",
       "    }\n",
       "\n",
       "    .dataframe tbody tr th {\n",
       "        vertical-align: top;\n",
       "    }\n",
       "\n",
       "    .dataframe thead th {\n",
       "        text-align: right;\n",
       "    }\n",
       "</style>\n",
       "<table border=\"1\" class=\"dataframe\">\n",
       "  <thead>\n",
       "    <tr style=\"text-align: right;\">\n",
       "      <th></th>\n",
       "      <th>fixed acidity</th>\n",
       "      <th>volatile acidity</th>\n",
       "      <th>citric acid</th>\n",
       "      <th>residual sugar</th>\n",
       "      <th>chlorides</th>\n",
       "      <th>free sulfur dioxide</th>\n",
       "      <th>total sulfur dioxide</th>\n",
       "      <th>density</th>\n",
       "      <th>pH</th>\n",
       "      <th>sulphates</th>\n",
       "      <th>alcohol</th>\n",
       "      <th>quality</th>\n",
       "      <th>wine rating</th>\n",
       "    </tr>\n",
       "  </thead>\n",
       "  <tbody>\n",
       "    <tr>\n",
       "      <th>0</th>\n",
       "      <td>7.4</td>\n",
       "      <td>0.70</td>\n",
       "      <td>0.00</td>\n",
       "      <td>1.9</td>\n",
       "      <td>0.076</td>\n",
       "      <td>11.0</td>\n",
       "      <td>34.0</td>\n",
       "      <td>0.9978</td>\n",
       "      <td>3.51</td>\n",
       "      <td>0.56</td>\n",
       "      <td>9.4</td>\n",
       "      <td>5</td>\n",
       "      <td>Average</td>\n",
       "    </tr>\n",
       "    <tr>\n",
       "      <th>1</th>\n",
       "      <td>7.8</td>\n",
       "      <td>0.88</td>\n",
       "      <td>0.00</td>\n",
       "      <td>2.6</td>\n",
       "      <td>0.098</td>\n",
       "      <td>25.0</td>\n",
       "      <td>67.0</td>\n",
       "      <td>0.9968</td>\n",
       "      <td>3.20</td>\n",
       "      <td>0.68</td>\n",
       "      <td>9.8</td>\n",
       "      <td>5</td>\n",
       "      <td>Average</td>\n",
       "    </tr>\n",
       "    <tr>\n",
       "      <th>2</th>\n",
       "      <td>7.8</td>\n",
       "      <td>0.76</td>\n",
       "      <td>0.04</td>\n",
       "      <td>2.3</td>\n",
       "      <td>0.092</td>\n",
       "      <td>15.0</td>\n",
       "      <td>54.0</td>\n",
       "      <td>0.9970</td>\n",
       "      <td>3.26</td>\n",
       "      <td>0.65</td>\n",
       "      <td>9.8</td>\n",
       "      <td>5</td>\n",
       "      <td>Average</td>\n",
       "    </tr>\n",
       "    <tr>\n",
       "      <th>3</th>\n",
       "      <td>11.2</td>\n",
       "      <td>0.28</td>\n",
       "      <td>0.56</td>\n",
       "      <td>1.9</td>\n",
       "      <td>0.075</td>\n",
       "      <td>17.0</td>\n",
       "      <td>60.0</td>\n",
       "      <td>0.9980</td>\n",
       "      <td>3.16</td>\n",
       "      <td>0.58</td>\n",
       "      <td>9.8</td>\n",
       "      <td>6</td>\n",
       "      <td>Average</td>\n",
       "    </tr>\n",
       "    <tr>\n",
       "      <th>4</th>\n",
       "      <td>7.4</td>\n",
       "      <td>0.70</td>\n",
       "      <td>0.00</td>\n",
       "      <td>1.9</td>\n",
       "      <td>0.076</td>\n",
       "      <td>11.0</td>\n",
       "      <td>34.0</td>\n",
       "      <td>0.9978</td>\n",
       "      <td>3.51</td>\n",
       "      <td>0.56</td>\n",
       "      <td>9.4</td>\n",
       "      <td>5</td>\n",
       "      <td>Average</td>\n",
       "    </tr>\n",
       "  </tbody>\n",
       "</table>\n",
       "</div>"
      ],
      "text/plain": [
       "   fixed acidity  volatile acidity  citric acid  residual sugar  chlorides  \\\n",
       "0            7.4              0.70         0.00             1.9      0.076   \n",
       "1            7.8              0.88         0.00             2.6      0.098   \n",
       "2            7.8              0.76         0.04             2.3      0.092   \n",
       "3           11.2              0.28         0.56             1.9      0.075   \n",
       "4            7.4              0.70         0.00             1.9      0.076   \n",
       "\n",
       "   free sulfur dioxide  total sulfur dioxide  density    pH  sulphates  \\\n",
       "0                 11.0                  34.0   0.9978  3.51       0.56   \n",
       "1                 25.0                  67.0   0.9968  3.20       0.68   \n",
       "2                 15.0                  54.0   0.9970  3.26       0.65   \n",
       "3                 17.0                  60.0   0.9980  3.16       0.58   \n",
       "4                 11.0                  34.0   0.9978  3.51       0.56   \n",
       "\n",
       "   alcohol  quality wine rating  \n",
       "0      9.4        5     Average  \n",
       "1      9.8        5     Average  \n",
       "2      9.8        5     Average  \n",
       "3      9.8        6     Average  \n",
       "4      9.4        5     Average  "
      ]
     },
     "execution_count": 1,
     "metadata": {},
     "output_type": "execute_result"
    }
   ],
   "source": [
    "#Importing the clean wine data\n",
    "import pandas as pd\n",
    "\n",
    "clean_wine_data = pd.read_csv(\"Clean_Wine_data.csv\")\n",
    "\n",
    "clean_wine_data.head()"
   ]
  },
  {
   "cell_type": "markdown",
   "metadata": {},
   "source": [
    "Observing the overall statistics in each of the columns"
   ]
  },
  {
   "cell_type": "code",
   "execution_count": 2,
   "metadata": {
    "scrolled": true
   },
   "outputs": [
    {
     "name": "stdout",
     "output_type": "stream",
     "text": [
      "       fixed acidity  volatile acidity  citric acid  residual sugar  \\\n",
      "count    1179.000000       1179.000000  1179.000000     1179.000000   \n",
      "mean        8.162002          0.523066     0.246760        2.185411   \n",
      "std         1.458270          0.164231     0.179441        0.440972   \n",
      "min         5.100000          0.120000     0.000000        1.200000   \n",
      "25%         7.100000          0.390000     0.080000        1.900000   \n",
      "50%         7.800000          0.520000     0.240000        2.100000   \n",
      "75%         9.000000          0.630000     0.390000        2.500000   \n",
      "max        12.300000          1.005000     0.730000        3.600000   \n",
      "\n",
      "         chlorides  free sulfur dioxide  total sulfur dioxide      density  \\\n",
      "count  1179.000000          1179.000000           1179.000000  1179.000000   \n",
      "mean      0.078586            15.020356             42.268024     0.996584   \n",
      "std       0.014317             8.792916             26.106438     0.001593   \n",
      "min       0.041000             1.000000              6.000000     0.992360   \n",
      "25%       0.069000             8.000000             22.000000     0.995520   \n",
      "50%       0.078000            13.000000             36.000000     0.996600   \n",
      "75%       0.087000            20.000000             56.000000     0.997600   \n",
      "max       0.119000            42.000000            122.000000     1.001000   \n",
      "\n",
      "                pH    sulphates      alcohol      quality  \n",
      "count  1179.000000  1179.000000  1179.000000  1179.000000  \n",
      "mean      3.324623     0.631264    10.350792     5.623410  \n",
      "std       0.131731     0.116098     0.963954     0.721248  \n",
      "min       2.940000     0.330000     8.700000     4.000000  \n",
      "25%       3.230000     0.550000     9.500000     5.000000  \n",
      "50%       3.330000     0.610000    10.100000     6.000000  \n",
      "75%       3.410000     0.700000    11.000000     6.000000  \n",
      "max       3.680000     0.980000    13.400000     7.000000  \n"
     ]
    }
   ],
   "source": [
    "print(clean_wine_data.describe())"
   ]
  },
  {
   "cell_type": "markdown",
   "metadata": {},
   "source": [
    "# Machine Learning with Scikit-Learn"
   ]
  },
  {
   "cell_type": "code",
   "execution_count": 3,
   "metadata": {},
   "outputs": [],
   "source": [
    "from sklearn.cluster import KMeans                        # k-means clustering \n",
    "from sklearn.model_selection import train_test_split      # train/test data\n",
    "from sklearn.neighbors import KNeighborsClassifier        # k-NN classification \n",
    "from sklearn.linear_model import LogisticRegression       # logistic regression \n",
    "\n",
    "import math\n",
    "from sklearn.metrics import accuracy_score, recall_score, precision_score, fbeta_score, classification_report\n",
    "from sklearn.metrics import explained_variance_score, mean_absolute_error, r2_score, mean_squared_error\n",
    "from sklearn.metrics import confusion_matrix\n"
   ]
  },
  {
   "cell_type": "markdown",
   "metadata": {},
   "source": [
    "### There are 11 features and 1 target. Based on those features and target, define the two variables X as a feature dataset and y as a target dataset.  So here quality is our target variable"
   ]
  },
  {
   "cell_type": "code",
   "execution_count": 4,
   "metadata": {},
   "outputs": [],
   "source": [
    "features = list(clean_wine_data.columns)\n",
    "features.remove('quality')\n",
    "features.remove('wine rating')\n",
    "target = \"quality\"\n",
    "\n",
    "X = clean_wine_data[features]\n",
    "y = clean_wine_data[target]"
   ]
  },
  {
   "cell_type": "markdown",
   "metadata": {},
   "source": [
    "### Split X and y into two training datasets X_train and y_train and two test datasets X_text and y_test. Set the test_size set to 25% and random_state to 0"
   ]
  },
  {
   "cell_type": "code",
   "execution_count": 5,
   "metadata": {},
   "outputs": [],
   "source": [
    "X_train, X_test, y_train, y_test = train_test_split(X, y, test_size=0.25, random_state=0)  "
   ]
  },
  {
   "cell_type": "markdown",
   "metadata": {},
   "source": [
    "## Modeling with Logistic Regression"
   ]
  },
  {
   "cell_type": "code",
   "execution_count": 6,
   "metadata": {},
   "outputs": [
    {
     "data": {
      "text/plain": [
       "LogisticRegression(C=1.0, class_weight=None, dual=False, fit_intercept=True,\n",
       "                   intercept_scaling=1, l1_ratio=None, max_iter=100,\n",
       "                   multi_class='auto', n_jobs=None, penalty='l2',\n",
       "                   random_state=None, solver='liblinear', tol=0.0001, verbose=0,\n",
       "                   warm_start=False)"
      ]
     },
     "execution_count": 6,
     "metadata": {},
     "output_type": "execute_result"
    }
   ],
   "source": [
    "lr = LogisticRegression(solver=\"liblinear\")   # Build a new logistic regression model \n",
    "lr.fit(X_train, y_train)\n"
   ]
  },
  {
   "cell_type": "code",
   "execution_count": 7,
   "metadata": {},
   "outputs": [
    {
     "data": {
      "text/plain": [
       "0.6176470588235294"
      ]
     },
     "execution_count": 7,
     "metadata": {},
     "output_type": "execute_result"
    }
   ],
   "source": [
    "lr.fit(X_train, y_train)\n",
    "\n",
    "## score for linear regression is the R2\n",
    "lr.score(X_train, y_train)                                            # Training score of the model\n"
   ]
  },
  {
   "cell_type": "code",
   "execution_count": 8,
   "metadata": {},
   "outputs": [
    {
     "name": "stdout",
     "output_type": "stream",
     "text": [
      "0.6305084745762712\n"
     ]
    }
   ],
   "source": [
    "print(lr.score(X_test, y_test))                                        # Test score of the model"
   ]
  },
  {
   "cell_type": "markdown",
   "metadata": {},
   "source": [
    "### Removing the highly co-related variables to improve the mean accuracy (score)"
   ]
  },
  {
   "cell_type": "code",
   "execution_count": 9,
   "metadata": {},
   "outputs": [
    {
     "name": "stdout",
     "output_type": "stream",
     "text": [
      "0.6221719457013575 0.6\n"
     ]
    }
   ],
   "source": [
    "revisedfeatures = list(clean_wine_data.columns)\n",
    "revisedfeatures.remove('quality')\n",
    "revisedfeatures.remove('volatile acidity')\n",
    "revisedfeatures.remove('wine rating')\n",
    "revisedfeatures.remove('density')\n",
    "revisedfeatures.remove('fixed acidity')\n",
    "\n",
    "\n",
    "target = \"quality\"\n",
    "\n",
    "X_revised = clean_wine_data[revisedfeatures]\n",
    "y_revised = clean_wine_data[target]\n",
    "\n",
    "\n",
    "X_revised_train, X_revised_test, y_revised_train, y_revised_test = train_test_split(X_revised, y_revised, test_size=0.25, random_state=0)  \n",
    "\n",
    "# Build a new logistic regression model \n",
    "\n",
    "revisedlr = LogisticRegression(solver=\"liblinear\")   # Build a new logistic regression model \n",
    "# lr = LinearRegression()\n",
    "revisedlr.fit(X_revised_train, y_revised_train)\n",
    "\n",
    "print(revisedlr.score(X_revised_train, y_revised_train), revisedlr.score(X_revised_test, y_revised_test))"
   ]
  },
  {
   "cell_type": "markdown",
   "metadata": {},
   "source": [
    "### The Train score got little better , however we see a decrease in the test score. "
   ]
  },
  {
   "cell_type": "markdown",
   "metadata": {},
   "source": [
    "### Other Accuracy Measures"
   ]
  },
  {
   "cell_type": "code",
   "execution_count": 10,
   "metadata": {},
   "outputs": [
    {
     "name": "stdout",
     "output_type": "stream",
     "text": [
      "score = 0.21454 | MAE = 0.390 | RMSE = 0.656 | R2 = 0.21351\n"
     ]
    }
   ],
   "source": [
    "# Make predictions against the test set\n",
    "\n",
    "preds = lr.predict(X_test)\n",
    "\n",
    "score = explained_variance_score(y_test, preds)\n",
    "mae = mean_absolute_error(y_test, preds)\n",
    "rmse = math.sqrt(mean_squared_error(y_test, preds))\n",
    "r2 = r2_score(y_test, preds)\n",
    "    \n",
    "print(\"score = {:.5f} | MAE = {:.3f} | RMSE = {:.3f} | R2 = {:.5f}\"\n",
    "          .format(score, mae, rmse, r2))"
   ]
  },
  {
   "cell_type": "code",
   "execution_count": 11,
   "metadata": {},
   "outputs": [
    {
     "name": "stdout",
     "output_type": "stream",
     "text": [
      "[ 0.0866095   0.9895772  -0.50135554 -0.90056294]\n",
      "[[ 3.18329411e-02  1.57471586e+00 -1.31988223e-01  2.49049995e-02\n",
      "   2.10826329e-02 -6.14315260e-02 -8.01449313e-03  8.48187598e-02\n",
      "   1.05961551e+00 -1.03741476e+00 -6.70047947e-01]\n",
      " [ 2.45141338e-03  1.47362980e+00  6.91947104e-01  1.83381297e-01\n",
      "   2.00625793e-01 -2.65909747e-02  1.96150351e-02  9.82836683e-01\n",
      "   1.77345917e+00 -3.27516417e+00 -7.72909872e-01]\n",
      " [ 3.76439913e-02 -7.26340488e-01 -1.09836176e+00 -8.44965648e-02\n",
      "   6.21718604e-02  3.23013322e-02 -1.37305313e-02 -4.77491129e-01\n",
      "  -6.44412730e-01  1.45365882e+00  2.43257311e-01]\n",
      " [-1.15867566e-01 -2.24119397e+00  6.57782653e-01 -1.77110984e-01\n",
      "  -1.99250499e-01  2.75110096e-02 -2.88526538e-02 -9.02195549e-01\n",
      "  -2.90820669e+00  3.13632430e+00  9.48216815e-01]]\n"
     ]
    }
   ],
   "source": [
    "print(lr.intercept_)\n",
    "print(lr.coef_)"
   ]
  },
  {
   "cell_type": "markdown",
   "metadata": {},
   "source": [
    "## Regression Modeling with Ridge\n"
   ]
  },
  {
   "cell_type": "code",
   "execution_count": 12,
   "metadata": {},
   "outputs": [],
   "source": [
    "from sklearn.linear_model import Ridge\n",
    "\n",
    "rr=Ridge(solver='svd')"
   ]
  },
  {
   "cell_type": "code",
   "execution_count": 13,
   "metadata": {},
   "outputs": [
    {
     "data": {
      "text/plain": [
       "Ridge(alpha=1.0, copy_X=True, fit_intercept=True, max_iter=None,\n",
       "      normalize=False, random_state=None, solver='svd', tol=0.001)"
      ]
     },
     "execution_count": 13,
     "metadata": {},
     "output_type": "execute_result"
    }
   ],
   "source": [
    "rr.fit(X_train, y_train)"
   ]
  },
  {
   "cell_type": "code",
   "execution_count": 14,
   "metadata": {},
   "outputs": [
    {
     "data": {
      "text/plain": [
       "0.393860363701923"
      ]
     },
     "execution_count": 14,
     "metadata": {},
     "output_type": "execute_result"
    }
   ],
   "source": [
    "## score for ridge regression is the R2\n",
    "rr.score(X_train, y_train)"
   ]
  },
  {
   "cell_type": "code",
   "execution_count": 15,
   "metadata": {},
   "outputs": [
    {
     "name": "stdout",
     "output_type": "stream",
     "text": [
      "0.3215933076695272\n",
      "score = 0.32734 | MAE = 0.479 | RMSE = 0.609 | R2 = 0.32159\n"
     ]
    }
   ],
   "source": [
    "## Other accuracy measures\n",
    "print(rr.score(X_test, y_test))\n",
    "\n",
    "preds = rr.predict(X_test)\n",
    "\n",
    "score = explained_variance_score(y_test, preds)\n",
    "mae = mean_absolute_error(y_test, preds)\n",
    "rmse = math.sqrt(mean_squared_error(y_test, preds))\n",
    "r2 = r2_score(y_test, preds)\n",
    "    \n",
    "print(\"score = {:.5f} | MAE = {:.3f} | RMSE = {:.3f} | R2 = {:.5f}\"\n",
    "          .format(score, mae, rmse, r2))"
   ]
  },
  {
   "cell_type": "markdown",
   "metadata": {},
   "source": [
    "### Now we have two models, we can use some test data to predict the results"
   ]
  },
  {
   "cell_type": "code",
   "execution_count": 16,
   "metadata": {},
   "outputs": [],
   "source": [
    "wine1 = {   \"fixed acidity\": 4.6, \n",
    "           \"volatile acidity\": 0.52,\n",
    "           \"citric acid\": 0.15,\n",
    "           \"residual sugar\": 2.1,\n",
    "           \"chlorides\": 0.054,\n",
    "           \"free sulfur dioxide\": 8.0,\n",
    "           \"total sulfur dioxide\": 65.0,\n",
    "           \"density\": 0.9934,\n",
    "           \"pH\": 3.9,\n",
    "           \"sulphates\": 0.56,\n",
    "           \"alcohol\": 13.1}\n",
    "\n",
    "wine2 = {   \"fixed acidity\": 11.6, \n",
    "           \"volatile acidity\": 0.58,\n",
    "           \"citric acid\": 0.66,\n",
    "           \"residual sugar\": 2.2,\n",
    "           \"chlorides\": 0.074,\n",
    "           \"free sulfur dioxide\": 10,\n",
    "           \"total sulfur dioxide\": 47,\n",
    "           \"density\": 1.0008,\n",
    "           \"pH\": 3.25,\n",
    "           \"sulphates\":0.57,\n",
    "           \"alcohol\": 9}\n",
    "\n",
    "wine3 = {   \"fixed acidity\": 5, \n",
    "           \"volatile acidity\": 1.04,\n",
    "           \"citric acid\": 0.24,\n",
    "           \"residual sugar\": 1.6,\n",
    "           \"chlorides\": 0.05,\n",
    "           \"free sulfur dioxide\": 32,\n",
    "           \"total sulfur dioxide\": 96,\n",
    "           \"density\": 0.9934,\n",
    "           \"pH\": 3.74,\n",
    "           \"sulphates\": 0.62,\n",
    "           \"alcohol\": 11.5}\n",
    "\n",
    "wine4 = {   \"fixed acidity\": 14.3, \n",
    "           \"volatile acidity\": 0.31,\n",
    "           \"citric acid\": 0.74,\n",
    "           \"residual sugar\": 1.8,\n",
    "           \"chlorides\": 0.075,\n",
    "           \"free sulfur dioxide\": 6,\n",
    "           \"total sulfur dioxide\": 15,\n",
    "           \"density\": 1.0008,\n",
    "           \"pH\": 2.86,\n",
    "           \"sulphates\": 0.79,\n",
    "           \"alcohol\": 8.4}\n",
    "\n",
    "wine5 = {   \"fixed acidity\": 6.2, \n",
    "           \"volatile acidity\": 0.39,\n",
    "           \"citric acid\": 0.43,\n",
    "           \"residual sugar\": 2,\n",
    "           \"chlorides\": 0.071,\n",
    "           \"free sulfur dioxide\": 14,\n",
    "           \"total sulfur dioxide\": 24,\n",
    "           \"density\": 0.99428,\n",
    "           \"pH\": 3.45,\n",
    "           \"sulphates\": 0.87,\n",
    "           \"alcohol\": 11.2}\n",
    "\n",
    "wine6 = {   \"fixed acidity\": 9.4, \n",
    "           \"volatile acidity\": 0.3,\n",
    "           \"citric acid\": 0.56,\n",
    "           \"residual sugar\": 2.8,\n",
    "           \"chlorides\": 0.08,\n",
    "           \"free sulfur dioxide\": 6,\n",
    "           \"total sulfur dioxide\": 17,\n",
    "           \"density\": 0.9964,\n",
    "           \"pH\": 3.15,\n",
    "           \"sulphates\": 0.92,\n",
    "           \"alcohol\": 11.7}\n"
   ]
  },
  {
   "cell_type": "code",
   "execution_count": 17,
   "metadata": {},
   "outputs": [],
   "source": [
    "X_new = []                                    # X_new contains new data items \n",
    "for obs in [wine1, wine2, wine3, wine4, wine5, wine6]:\n",
    "    new_obs = [obs[\"fixed acidity\"], obs[\"volatile acidity\"], obs[\"citric acid\"]\n",
    "               , obs[\"residual sugar\"], obs[\"chlorides\"], obs[\"free sulfur dioxide\"], obs[\"total sulfur dioxide\"]\n",
    "               , obs[\"density\"], obs[\"pH\"], obs[\"sulphates\"], obs[\"alcohol\"]]\n",
    "    X_new.append(new_obs)"
   ]
  },
  {
   "cell_type": "markdown",
   "metadata": {},
   "source": [
    "### Predicting Using Ridge"
   ]
  },
  {
   "cell_type": "code",
   "execution_count": 18,
   "metadata": {},
   "outputs": [
    {
     "data": {
      "text/plain": [
       "['Average', 'Average', 'Average', 'Average', 'Good', 'Good']"
      ]
     },
     "execution_count": 18,
     "metadata": {},
     "output_type": "execute_result"
    }
   ],
   "source": [
    "def convertWineRating(x):\n",
    "    if(0 < x <= 4):\n",
    "        return \"Bad\"\n",
    "    elif(4 < x <= 6):\n",
    "        return \"Average\"\n",
    "    elif(6 < x <= 10):\n",
    "        return \"Good\"\n",
    "\n",
    "clean_wine_data['wine rating'] = clean_wine_data['quality'].apply(convertWineRating)\n",
    "\n",
    "\n",
    "predicted_result = [convertWineRating(x) for x in rr.predict(X_new)]\n",
    "predicted_result"
   ]
  },
  {
   "cell_type": "markdown",
   "metadata": {},
   "source": [
    "### Predicting Using Logistic Regression"
   ]
  },
  {
   "cell_type": "code",
   "execution_count": 19,
   "metadata": {},
   "outputs": [
    {
     "data": {
      "text/plain": [
       "['Average', 'Average', 'Average', 'Average', 'Average', 'Good']"
      ]
     },
     "execution_count": 19,
     "metadata": {},
     "output_type": "execute_result"
    }
   ],
   "source": [
    "predicted_result = [convertWineRating(x) for x in lr.predict(X_new)]\n",
    "predicted_result"
   ]
  },
  {
   "cell_type": "markdown",
   "metadata": {},
   "source": [
    "## Modeling with k-Means Clustering\n"
   ]
  },
  {
   "cell_type": "code",
   "execution_count": 20,
   "metadata": {},
   "outputs": [],
   "source": [
    "from sklearn.cluster import KMeans\n",
    "\n",
    "kmeans = KMeans(n_clusters=5, random_state=0)     # Create a new k-means clustering model with k set to 5"
   ]
  },
  {
   "cell_type": "code",
   "execution_count": 21,
   "metadata": {},
   "outputs": [
    {
     "data": {
      "text/plain": [
       "KMeans(algorithm='auto', copy_x=True, init='k-means++', max_iter=300,\n",
       "       n_clusters=5, n_init=10, n_jobs=None, precompute_distances='auto',\n",
       "       random_state=0, tol=0.0001, verbose=0)"
      ]
     },
     "execution_count": 21,
     "metadata": {},
     "output_type": "execute_result"
    }
   ],
   "source": [
    "kmeans.fit(X)"
   ]
  },
  {
   "cell_type": "code",
   "execution_count": 22,
   "metadata": {},
   "outputs": [
    {
     "data": {
      "text/plain": [
       "array([[8.14866667e+00, 5.25166667e-01, 2.73466667e-01, 2.27466667e+00,\n",
       "        8.04666667e-02, 2.25733333e+01, 6.81066667e+01, 9.97019133e-01,\n",
       "        3.32540000e+00, 6.22266667e-01, 1.00446667e+01],\n",
       "       [8.49369369e+00, 5.07582583e-01, 2.73513514e-01, 2.09324324e+00,\n",
       "        7.64654655e-02, 6.69369369e+00, 1.62702703e+01, 9.96410360e-01,\n",
       "        3.29900901e+00, 6.24444444e-01, 1.05345345e+01],\n",
       "       [7.90162602e+00, 5.74552846e-01, 2.48536585e-01, 2.33780488e+00,\n",
       "        8.38536585e-02, 2.14715447e+01, 9.83089431e+01, 9.96884228e-01,\n",
       "        3.31357724e+00, 5.95853659e-01, 9.86598916e+00],\n",
       "       [8.07212644e+00, 5.23735632e-01, 2.24425287e-01, 2.16666667e+00,\n",
       "        7.81206897e-02, 1.27873563e+01, 3.20114943e+01, 9.96526810e-01,\n",
       "        3.34129310e+00, 6.33275862e-01, 1.04204502e+01],\n",
       "       [7.96133333e+00, 5.15400000e-01, 2.22933333e-01, 2.20800000e+00,\n",
       "        7.83111111e-02, 2.22355556e+01, 4.87466667e+01, 9.96473956e-01,\n",
       "        3.34226667e+00, 6.63600000e-01, 1.04402222e+01]])"
      ]
     },
     "execution_count": 22,
     "metadata": {},
     "output_type": "execute_result"
    }
   ],
   "source": [
    "kmeans.cluster_centers_                          # Store the values of centroids "
   ]
  },
  {
   "cell_type": "code",
   "execution_count": 23,
   "metadata": {},
   "outputs": [
    {
     "data": {
      "text/plain": [
       "array([3, 0, 4, ..., 4, 4, 4])"
      ]
     },
     "execution_count": 23,
     "metadata": {},
     "output_type": "execute_result"
    }
   ],
   "source": [
    "kmeans.labels_                                   # Store the cluster labels of data items "
   ]
  },
  {
   "cell_type": "code",
   "execution_count": 24,
   "metadata": {},
   "outputs": [],
   "source": [
    "clean_wine_data[\"label\"] = kmeans.labels_                    # Add a new column lable with the clustering labels "
   ]
  },
  {
   "cell_type": "code",
   "execution_count": 25,
   "metadata": {},
   "outputs": [
    {
     "data": {
      "text/html": [
       "<div>\n",
       "<style scoped>\n",
       "    .dataframe tbody tr th:only-of-type {\n",
       "        vertical-align: middle;\n",
       "    }\n",
       "\n",
       "    .dataframe tbody tr th {\n",
       "        vertical-align: top;\n",
       "    }\n",
       "\n",
       "    .dataframe thead th {\n",
       "        text-align: right;\n",
       "    }\n",
       "</style>\n",
       "<table border=\"1\" class=\"dataframe\">\n",
       "  <thead>\n",
       "    <tr style=\"text-align: right;\">\n",
       "      <th></th>\n",
       "      <th>fixed acidity</th>\n",
       "      <th>volatile acidity</th>\n",
       "      <th>citric acid</th>\n",
       "      <th>residual sugar</th>\n",
       "      <th>chlorides</th>\n",
       "      <th>free sulfur dioxide</th>\n",
       "      <th>total sulfur dioxide</th>\n",
       "      <th>density</th>\n",
       "      <th>pH</th>\n",
       "      <th>sulphates</th>\n",
       "      <th>alcohol</th>\n",
       "      <th>quality</th>\n",
       "      <th>wine rating</th>\n",
       "      <th>label</th>\n",
       "    </tr>\n",
       "  </thead>\n",
       "  <tbody>\n",
       "    <tr>\n",
       "      <th>0</th>\n",
       "      <td>7.4</td>\n",
       "      <td>0.70</td>\n",
       "      <td>0.00</td>\n",
       "      <td>1.9</td>\n",
       "      <td>0.076</td>\n",
       "      <td>11.0</td>\n",
       "      <td>34.0</td>\n",
       "      <td>0.9978</td>\n",
       "      <td>3.51</td>\n",
       "      <td>0.56</td>\n",
       "      <td>9.4</td>\n",
       "      <td>5</td>\n",
       "      <td>Average</td>\n",
       "      <td>3</td>\n",
       "    </tr>\n",
       "    <tr>\n",
       "      <th>1</th>\n",
       "      <td>7.8</td>\n",
       "      <td>0.88</td>\n",
       "      <td>0.00</td>\n",
       "      <td>2.6</td>\n",
       "      <td>0.098</td>\n",
       "      <td>25.0</td>\n",
       "      <td>67.0</td>\n",
       "      <td>0.9968</td>\n",
       "      <td>3.20</td>\n",
       "      <td>0.68</td>\n",
       "      <td>9.8</td>\n",
       "      <td>5</td>\n",
       "      <td>Average</td>\n",
       "      <td>0</td>\n",
       "    </tr>\n",
       "    <tr>\n",
       "      <th>2</th>\n",
       "      <td>7.8</td>\n",
       "      <td>0.76</td>\n",
       "      <td>0.04</td>\n",
       "      <td>2.3</td>\n",
       "      <td>0.092</td>\n",
       "      <td>15.0</td>\n",
       "      <td>54.0</td>\n",
       "      <td>0.9970</td>\n",
       "      <td>3.26</td>\n",
       "      <td>0.65</td>\n",
       "      <td>9.8</td>\n",
       "      <td>5</td>\n",
       "      <td>Average</td>\n",
       "      <td>4</td>\n",
       "    </tr>\n",
       "    <tr>\n",
       "      <th>3</th>\n",
       "      <td>11.2</td>\n",
       "      <td>0.28</td>\n",
       "      <td>0.56</td>\n",
       "      <td>1.9</td>\n",
       "      <td>0.075</td>\n",
       "      <td>17.0</td>\n",
       "      <td>60.0</td>\n",
       "      <td>0.9980</td>\n",
       "      <td>3.16</td>\n",
       "      <td>0.58</td>\n",
       "      <td>9.8</td>\n",
       "      <td>6</td>\n",
       "      <td>Average</td>\n",
       "      <td>0</td>\n",
       "    </tr>\n",
       "    <tr>\n",
       "      <th>4</th>\n",
       "      <td>7.4</td>\n",
       "      <td>0.70</td>\n",
       "      <td>0.00</td>\n",
       "      <td>1.9</td>\n",
       "      <td>0.076</td>\n",
       "      <td>11.0</td>\n",
       "      <td>34.0</td>\n",
       "      <td>0.9978</td>\n",
       "      <td>3.51</td>\n",
       "      <td>0.56</td>\n",
       "      <td>9.4</td>\n",
       "      <td>5</td>\n",
       "      <td>Average</td>\n",
       "      <td>3</td>\n",
       "    </tr>\n",
       "    <tr>\n",
       "      <th>5</th>\n",
       "      <td>7.4</td>\n",
       "      <td>0.66</td>\n",
       "      <td>0.00</td>\n",
       "      <td>1.8</td>\n",
       "      <td>0.075</td>\n",
       "      <td>13.0</td>\n",
       "      <td>40.0</td>\n",
       "      <td>0.9978</td>\n",
       "      <td>3.51</td>\n",
       "      <td>0.56</td>\n",
       "      <td>9.4</td>\n",
       "      <td>5</td>\n",
       "      <td>Average</td>\n",
       "      <td>3</td>\n",
       "    </tr>\n",
       "    <tr>\n",
       "      <th>6</th>\n",
       "      <td>7.9</td>\n",
       "      <td>0.60</td>\n",
       "      <td>0.06</td>\n",
       "      <td>1.6</td>\n",
       "      <td>0.069</td>\n",
       "      <td>15.0</td>\n",
       "      <td>59.0</td>\n",
       "      <td>0.9964</td>\n",
       "      <td>3.30</td>\n",
       "      <td>0.46</td>\n",
       "      <td>9.4</td>\n",
       "      <td>5</td>\n",
       "      <td>Average</td>\n",
       "      <td>0</td>\n",
       "    </tr>\n",
       "    <tr>\n",
       "      <th>7</th>\n",
       "      <td>7.3</td>\n",
       "      <td>0.65</td>\n",
       "      <td>0.00</td>\n",
       "      <td>1.2</td>\n",
       "      <td>0.065</td>\n",
       "      <td>15.0</td>\n",
       "      <td>21.0</td>\n",
       "      <td>0.9946</td>\n",
       "      <td>3.39</td>\n",
       "      <td>0.47</td>\n",
       "      <td>10.0</td>\n",
       "      <td>7</td>\n",
       "      <td>Good</td>\n",
       "      <td>1</td>\n",
       "    </tr>\n",
       "    <tr>\n",
       "      <th>8</th>\n",
       "      <td>7.8</td>\n",
       "      <td>0.58</td>\n",
       "      <td>0.02</td>\n",
       "      <td>2.0</td>\n",
       "      <td>0.073</td>\n",
       "      <td>9.0</td>\n",
       "      <td>18.0</td>\n",
       "      <td>0.9968</td>\n",
       "      <td>3.36</td>\n",
       "      <td>0.57</td>\n",
       "      <td>9.5</td>\n",
       "      <td>7</td>\n",
       "      <td>Good</td>\n",
       "      <td>1</td>\n",
       "    </tr>\n",
       "    <tr>\n",
       "      <th>9</th>\n",
       "      <td>6.7</td>\n",
       "      <td>0.58</td>\n",
       "      <td>0.08</td>\n",
       "      <td>1.8</td>\n",
       "      <td>0.097</td>\n",
       "      <td>15.0</td>\n",
       "      <td>65.0</td>\n",
       "      <td>0.9959</td>\n",
       "      <td>3.28</td>\n",
       "      <td>0.54</td>\n",
       "      <td>9.2</td>\n",
       "      <td>5</td>\n",
       "      <td>Average</td>\n",
       "      <td>0</td>\n",
       "    </tr>\n",
       "  </tbody>\n",
       "</table>\n",
       "</div>"
      ],
      "text/plain": [
       "   fixed acidity  volatile acidity  citric acid  residual sugar  chlorides  \\\n",
       "0            7.4              0.70         0.00             1.9      0.076   \n",
       "1            7.8              0.88         0.00             2.6      0.098   \n",
       "2            7.8              0.76         0.04             2.3      0.092   \n",
       "3           11.2              0.28         0.56             1.9      0.075   \n",
       "4            7.4              0.70         0.00             1.9      0.076   \n",
       "5            7.4              0.66         0.00             1.8      0.075   \n",
       "6            7.9              0.60         0.06             1.6      0.069   \n",
       "7            7.3              0.65         0.00             1.2      0.065   \n",
       "8            7.8              0.58         0.02             2.0      0.073   \n",
       "9            6.7              0.58         0.08             1.8      0.097   \n",
       "\n",
       "   free sulfur dioxide  total sulfur dioxide  density    pH  sulphates  \\\n",
       "0                 11.0                  34.0   0.9978  3.51       0.56   \n",
       "1                 25.0                  67.0   0.9968  3.20       0.68   \n",
       "2                 15.0                  54.0   0.9970  3.26       0.65   \n",
       "3                 17.0                  60.0   0.9980  3.16       0.58   \n",
       "4                 11.0                  34.0   0.9978  3.51       0.56   \n",
       "5                 13.0                  40.0   0.9978  3.51       0.56   \n",
       "6                 15.0                  59.0   0.9964  3.30       0.46   \n",
       "7                 15.0                  21.0   0.9946  3.39       0.47   \n",
       "8                  9.0                  18.0   0.9968  3.36       0.57   \n",
       "9                 15.0                  65.0   0.9959  3.28       0.54   \n",
       "\n",
       "   alcohol  quality wine rating  label  \n",
       "0      9.4        5     Average      3  \n",
       "1      9.8        5     Average      0  \n",
       "2      9.8        5     Average      4  \n",
       "3      9.8        6     Average      0  \n",
       "4      9.4        5     Average      3  \n",
       "5      9.4        5     Average      3  \n",
       "6      9.4        5     Average      0  \n",
       "7     10.0        7        Good      1  \n",
       "8      9.5        7        Good      1  \n",
       "9      9.2        5     Average      0  "
      ]
     },
     "execution_count": 25,
     "metadata": {},
     "output_type": "execute_result"
    }
   ],
   "source": [
    "clean_wine_data.head(10)"
   ]
  },
  {
   "cell_type": "code",
   "execution_count": 26,
   "metadata": {},
   "outputs": [
    {
     "data": {
      "text/plain": [
       "3    348\n",
       "1    333\n",
       "4    225\n",
       "0    150\n",
       "2    123\n",
       "Name: label, dtype: int64"
      ]
     },
     "execution_count": 26,
     "metadata": {},
     "output_type": "execute_result"
    }
   ],
   "source": [
    "clean_wine_data.label.value_counts()                          # Count the number of values for each label "
   ]
  },
  {
   "cell_type": "code",
   "execution_count": 27,
   "metadata": {},
   "outputs": [
    {
     "data": {
      "text/html": [
       "<div>\n",
       "<style scoped>\n",
       "    .dataframe tbody tr th:only-of-type {\n",
       "        vertical-align: middle;\n",
       "    }\n",
       "\n",
       "    .dataframe tbody tr th {\n",
       "        vertical-align: top;\n",
       "    }\n",
       "\n",
       "    .dataframe thead th {\n",
       "        text-align: right;\n",
       "    }\n",
       "</style>\n",
       "<table border=\"1\" class=\"dataframe\">\n",
       "  <thead>\n",
       "    <tr style=\"text-align: right;\">\n",
       "      <th></th>\n",
       "      <th>fixed acidity</th>\n",
       "      <th>volatile acidity</th>\n",
       "      <th>citric acid</th>\n",
       "      <th>residual sugar</th>\n",
       "      <th>chlorides</th>\n",
       "      <th>free sulfur dioxide</th>\n",
       "      <th>total sulfur dioxide</th>\n",
       "      <th>density</th>\n",
       "      <th>pH</th>\n",
       "      <th>sulphates</th>\n",
       "      <th>alcohol</th>\n",
       "      <th>quality</th>\n",
       "      <th>wine rating</th>\n",
       "      <th>label</th>\n",
       "    </tr>\n",
       "  </thead>\n",
       "  <tbody>\n",
       "    <tr>\n",
       "      <th>23</th>\n",
       "      <td>6.9</td>\n",
       "      <td>0.685</td>\n",
       "      <td>0.00</td>\n",
       "      <td>2.5</td>\n",
       "      <td>0.105</td>\n",
       "      <td>22.0</td>\n",
       "      <td>37.0</td>\n",
       "      <td>0.99660</td>\n",
       "      <td>3.46</td>\n",
       "      <td>0.57</td>\n",
       "      <td>10.6</td>\n",
       "      <td>6</td>\n",
       "      <td>Average</td>\n",
       "      <td>3</td>\n",
       "    </tr>\n",
       "    <tr>\n",
       "      <th>181</th>\n",
       "      <td>7.7</td>\n",
       "      <td>0.530</td>\n",
       "      <td>0.06</td>\n",
       "      <td>1.7</td>\n",
       "      <td>0.074</td>\n",
       "      <td>9.0</td>\n",
       "      <td>39.0</td>\n",
       "      <td>0.99615</td>\n",
       "      <td>3.35</td>\n",
       "      <td>0.48</td>\n",
       "      <td>9.8</td>\n",
       "      <td>6</td>\n",
       "      <td>Average</td>\n",
       "      <td>3</td>\n",
       "    </tr>\n",
       "    <tr>\n",
       "      <th>924</th>\n",
       "      <td>7.8</td>\n",
       "      <td>0.580</td>\n",
       "      <td>0.13</td>\n",
       "      <td>2.1</td>\n",
       "      <td>0.102</td>\n",
       "      <td>17.0</td>\n",
       "      <td>36.0</td>\n",
       "      <td>0.99440</td>\n",
       "      <td>3.24</td>\n",
       "      <td>0.53</td>\n",
       "      <td>11.2</td>\n",
       "      <td>6</td>\n",
       "      <td>Average</td>\n",
       "      <td>3</td>\n",
       "    </tr>\n",
       "    <tr>\n",
       "      <th>169</th>\n",
       "      <td>6.9</td>\n",
       "      <td>0.520</td>\n",
       "      <td>0.25</td>\n",
       "      <td>2.6</td>\n",
       "      <td>0.081</td>\n",
       "      <td>10.0</td>\n",
       "      <td>37.0</td>\n",
       "      <td>0.99685</td>\n",
       "      <td>3.46</td>\n",
       "      <td>0.50</td>\n",
       "      <td>11.0</td>\n",
       "      <td>5</td>\n",
       "      <td>Average</td>\n",
       "      <td>3</td>\n",
       "    </tr>\n",
       "    <tr>\n",
       "      <th>994</th>\n",
       "      <td>9.2</td>\n",
       "      <td>0.540</td>\n",
       "      <td>0.31</td>\n",
       "      <td>2.3</td>\n",
       "      <td>0.112</td>\n",
       "      <td>11.0</td>\n",
       "      <td>38.0</td>\n",
       "      <td>0.99699</td>\n",
       "      <td>3.24</td>\n",
       "      <td>0.56</td>\n",
       "      <td>10.9</td>\n",
       "      <td>5</td>\n",
       "      <td>Average</td>\n",
       "      <td>3</td>\n",
       "    </tr>\n",
       "    <tr>\n",
       "      <th>586</th>\n",
       "      <td>6.0</td>\n",
       "      <td>0.500</td>\n",
       "      <td>0.04</td>\n",
       "      <td>2.2</td>\n",
       "      <td>0.092</td>\n",
       "      <td>13.0</td>\n",
       "      <td>26.0</td>\n",
       "      <td>0.99647</td>\n",
       "      <td>3.46</td>\n",
       "      <td>0.47</td>\n",
       "      <td>10.0</td>\n",
       "      <td>5</td>\n",
       "      <td>Average</td>\n",
       "      <td>3</td>\n",
       "    </tr>\n",
       "    <tr>\n",
       "      <th>588</th>\n",
       "      <td>6.6</td>\n",
       "      <td>0.660</td>\n",
       "      <td>0.00</td>\n",
       "      <td>3.0</td>\n",
       "      <td>0.115</td>\n",
       "      <td>21.0</td>\n",
       "      <td>31.0</td>\n",
       "      <td>0.99629</td>\n",
       "      <td>3.45</td>\n",
       "      <td>0.63</td>\n",
       "      <td>10.3</td>\n",
       "      <td>5</td>\n",
       "      <td>Average</td>\n",
       "      <td>3</td>\n",
       "    </tr>\n",
       "    <tr>\n",
       "      <th>370</th>\n",
       "      <td>10.3</td>\n",
       "      <td>0.270</td>\n",
       "      <td>0.24</td>\n",
       "      <td>2.1</td>\n",
       "      <td>0.072</td>\n",
       "      <td>15.0</td>\n",
       "      <td>33.0</td>\n",
       "      <td>0.99560</td>\n",
       "      <td>3.22</td>\n",
       "      <td>0.66</td>\n",
       "      <td>12.8</td>\n",
       "      <td>6</td>\n",
       "      <td>Average</td>\n",
       "      <td>3</td>\n",
       "    </tr>\n",
       "    <tr>\n",
       "      <th>303</th>\n",
       "      <td>11.9</td>\n",
       "      <td>0.370</td>\n",
       "      <td>0.69</td>\n",
       "      <td>2.3</td>\n",
       "      <td>0.078</td>\n",
       "      <td>12.0</td>\n",
       "      <td>24.0</td>\n",
       "      <td>0.99580</td>\n",
       "      <td>3.00</td>\n",
       "      <td>0.65</td>\n",
       "      <td>12.8</td>\n",
       "      <td>6</td>\n",
       "      <td>Average</td>\n",
       "      <td>3</td>\n",
       "    </tr>\n",
       "    <tr>\n",
       "      <th>834</th>\n",
       "      <td>8.3</td>\n",
       "      <td>0.600</td>\n",
       "      <td>0.25</td>\n",
       "      <td>2.2</td>\n",
       "      <td>0.118</td>\n",
       "      <td>9.0</td>\n",
       "      <td>38.0</td>\n",
       "      <td>0.99616</td>\n",
       "      <td>3.15</td>\n",
       "      <td>0.53</td>\n",
       "      <td>9.8</td>\n",
       "      <td>5</td>\n",
       "      <td>Average</td>\n",
       "      <td>3</td>\n",
       "    </tr>\n",
       "  </tbody>\n",
       "</table>\n",
       "</div>"
      ],
      "text/plain": [
       "     fixed acidity  volatile acidity  citric acid  residual sugar  chlorides  \\\n",
       "23             6.9             0.685         0.00             2.5      0.105   \n",
       "181            7.7             0.530         0.06             1.7      0.074   \n",
       "924            7.8             0.580         0.13             2.1      0.102   \n",
       "169            6.9             0.520         0.25             2.6      0.081   \n",
       "994            9.2             0.540         0.31             2.3      0.112   \n",
       "586            6.0             0.500         0.04             2.2      0.092   \n",
       "588            6.6             0.660         0.00             3.0      0.115   \n",
       "370           10.3             0.270         0.24             2.1      0.072   \n",
       "303           11.9             0.370         0.69             2.3      0.078   \n",
       "834            8.3             0.600         0.25             2.2      0.118   \n",
       "\n",
       "     free sulfur dioxide  total sulfur dioxide  density    pH  sulphates  \\\n",
       "23                  22.0                  37.0  0.99660  3.46       0.57   \n",
       "181                  9.0                  39.0  0.99615  3.35       0.48   \n",
       "924                 17.0                  36.0  0.99440  3.24       0.53   \n",
       "169                 10.0                  37.0  0.99685  3.46       0.50   \n",
       "994                 11.0                  38.0  0.99699  3.24       0.56   \n",
       "586                 13.0                  26.0  0.99647  3.46       0.47   \n",
       "588                 21.0                  31.0  0.99629  3.45       0.63   \n",
       "370                 15.0                  33.0  0.99560  3.22       0.66   \n",
       "303                 12.0                  24.0  0.99580  3.00       0.65   \n",
       "834                  9.0                  38.0  0.99616  3.15       0.53   \n",
       "\n",
       "     alcohol  quality wine rating  label  \n",
       "23      10.6        6     Average      3  \n",
       "181      9.8        6     Average      3  \n",
       "924     11.2        6     Average      3  \n",
       "169     11.0        5     Average      3  \n",
       "994     10.9        5     Average      3  \n",
       "586     10.0        5     Average      3  \n",
       "588     10.3        5     Average      3  \n",
       "370     12.8        6     Average      3  \n",
       "303     12.8        6     Average      3  \n",
       "834      9.8        5     Average      3  "
      ]
     },
     "execution_count": 27,
     "metadata": {},
     "output_type": "execute_result"
    }
   ],
   "source": [
    "clean_wine_data[clean_wine_data.label == 3].sample(n=10, replace=False, random_state=0)  # Select a random sample with 10 rows that have the label 2"
   ]
  },
  {
   "cell_type": "code",
   "execution_count": 28,
   "metadata": {},
   "outputs": [
    {
     "data": {
      "text/html": [
       "<div>\n",
       "<style scoped>\n",
       "    .dataframe tbody tr th:only-of-type {\n",
       "        vertical-align: middle;\n",
       "    }\n",
       "\n",
       "    .dataframe tbody tr th {\n",
       "        vertical-align: top;\n",
       "    }\n",
       "\n",
       "    .dataframe thead th {\n",
       "        text-align: right;\n",
       "    }\n",
       "</style>\n",
       "<table border=\"1\" class=\"dataframe\">\n",
       "  <thead>\n",
       "    <tr style=\"text-align: right;\">\n",
       "      <th></th>\n",
       "      <th>fixed acidity</th>\n",
       "      <th>volatile acidity</th>\n",
       "      <th>citric acid</th>\n",
       "      <th>residual sugar</th>\n",
       "      <th>chlorides</th>\n",
       "      <th>free sulfur dioxide</th>\n",
       "      <th>total sulfur dioxide</th>\n",
       "      <th>density</th>\n",
       "      <th>pH</th>\n",
       "      <th>sulphates</th>\n",
       "      <th>alcohol</th>\n",
       "      <th>quality</th>\n",
       "    </tr>\n",
       "    <tr>\n",
       "      <th>label</th>\n",
       "      <th></th>\n",
       "      <th></th>\n",
       "      <th></th>\n",
       "      <th></th>\n",
       "      <th></th>\n",
       "      <th></th>\n",
       "      <th></th>\n",
       "      <th></th>\n",
       "      <th></th>\n",
       "      <th></th>\n",
       "      <th></th>\n",
       "      <th></th>\n",
       "    </tr>\n",
       "  </thead>\n",
       "  <tbody>\n",
       "    <tr>\n",
       "      <th>0</th>\n",
       "      <td>8.148667</td>\n",
       "      <td>0.525167</td>\n",
       "      <td>0.273467</td>\n",
       "      <td>2.274667</td>\n",
       "      <td>0.080467</td>\n",
       "      <td>22.573333</td>\n",
       "      <td>68.106667</td>\n",
       "      <td>0.997019</td>\n",
       "      <td>3.325400</td>\n",
       "      <td>0.622267</td>\n",
       "      <td>10.044667</td>\n",
       "      <td>5.453333</td>\n",
       "    </tr>\n",
       "    <tr>\n",
       "      <th>1</th>\n",
       "      <td>8.493694</td>\n",
       "      <td>0.507583</td>\n",
       "      <td>0.273514</td>\n",
       "      <td>2.093243</td>\n",
       "      <td>0.076465</td>\n",
       "      <td>6.693694</td>\n",
       "      <td>16.270270</td>\n",
       "      <td>0.996410</td>\n",
       "      <td>3.299009</td>\n",
       "      <td>0.624444</td>\n",
       "      <td>10.534535</td>\n",
       "      <td>5.702703</td>\n",
       "    </tr>\n",
       "    <tr>\n",
       "      <th>2</th>\n",
       "      <td>7.901626</td>\n",
       "      <td>0.574553</td>\n",
       "      <td>0.248537</td>\n",
       "      <td>2.337805</td>\n",
       "      <td>0.083854</td>\n",
       "      <td>21.471545</td>\n",
       "      <td>98.308943</td>\n",
       "      <td>0.996884</td>\n",
       "      <td>3.313577</td>\n",
       "      <td>0.595854</td>\n",
       "      <td>9.865989</td>\n",
       "      <td>5.260163</td>\n",
       "    </tr>\n",
       "    <tr>\n",
       "      <th>3</th>\n",
       "      <td>8.072126</td>\n",
       "      <td>0.523736</td>\n",
       "      <td>0.224425</td>\n",
       "      <td>2.166667</td>\n",
       "      <td>0.078121</td>\n",
       "      <td>12.787356</td>\n",
       "      <td>32.011494</td>\n",
       "      <td>0.996527</td>\n",
       "      <td>3.341293</td>\n",
       "      <td>0.633276</td>\n",
       "      <td>10.420450</td>\n",
       "      <td>5.695402</td>\n",
       "    </tr>\n",
       "    <tr>\n",
       "      <th>4</th>\n",
       "      <td>7.961333</td>\n",
       "      <td>0.515400</td>\n",
       "      <td>0.222933</td>\n",
       "      <td>2.208000</td>\n",
       "      <td>0.078311</td>\n",
       "      <td>22.235556</td>\n",
       "      <td>48.746667</td>\n",
       "      <td>0.996474</td>\n",
       "      <td>3.342267</td>\n",
       "      <td>0.663600</td>\n",
       "      <td>10.440222</td>\n",
       "      <td>5.706667</td>\n",
       "    </tr>\n",
       "  </tbody>\n",
       "</table>\n",
       "</div>"
      ],
      "text/plain": [
       "       fixed acidity  volatile acidity  citric acid  residual sugar  \\\n",
       "label                                                                 \n",
       "0           8.148667          0.525167     0.273467        2.274667   \n",
       "1           8.493694          0.507583     0.273514        2.093243   \n",
       "2           7.901626          0.574553     0.248537        2.337805   \n",
       "3           8.072126          0.523736     0.224425        2.166667   \n",
       "4           7.961333          0.515400     0.222933        2.208000   \n",
       "\n",
       "       chlorides  free sulfur dioxide  total sulfur dioxide   density  \\\n",
       "label                                                                   \n",
       "0       0.080467            22.573333             68.106667  0.997019   \n",
       "1       0.076465             6.693694             16.270270  0.996410   \n",
       "2       0.083854            21.471545             98.308943  0.996884   \n",
       "3       0.078121            12.787356             32.011494  0.996527   \n",
       "4       0.078311            22.235556             48.746667  0.996474   \n",
       "\n",
       "             pH  sulphates    alcohol   quality  \n",
       "label                                            \n",
       "0      3.325400   0.622267  10.044667  5.453333  \n",
       "1      3.299009   0.624444  10.534535  5.702703  \n",
       "2      3.313577   0.595854   9.865989  5.260163  \n",
       "3      3.341293   0.633276  10.420450  5.695402  \n",
       "4      3.342267   0.663600  10.440222  5.706667  "
      ]
     },
     "execution_count": 28,
     "metadata": {},
     "output_type": "execute_result"
    }
   ],
   "source": [
    "clean_wine_data.groupby(\"label\").mean()"
   ]
  },
  {
   "cell_type": "markdown",
   "metadata": {},
   "source": [
    "Conclusion Note: From above it can be observed that Mean quality of wine is high with around 5.7 for Label = (1, 3, 4). "
   ]
  },
  {
   "cell_type": "markdown",
   "metadata": {},
   "source": [
    "## Creating a pkl file using joblib"
   ]
  },
  {
   "cell_type": "code",
   "execution_count": 29,
   "metadata": {},
   "outputs": [],
   "source": [
    "import joblib\n",
    "\n",
    "with open(\"./lib/models/logisticRegressionModel.pkl\", \"wb\") as fwb:\n",
    "    joblib.dump(lr, fwb)"
   ]
  }
 ],
 "metadata": {
  "kernelspec": {
   "display_name": "Python 3",
   "language": "python",
   "name": "python3"
  },
  "language_info": {
   "codemirror_mode": {
    "name": "ipython",
    "version": 3
   },
   "file_extension": ".py",
   "mimetype": "text/x-python",
   "name": "python",
   "nbconvert_exporter": "python",
   "pygments_lexer": "ipython3",
   "version": "3.7.6"
  }
 },
 "nbformat": 4,
 "nbformat_minor": 4
}
